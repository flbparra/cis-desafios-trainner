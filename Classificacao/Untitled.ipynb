{
 "cells": [
  {
   "cell_type": "code",
   "execution_count": 1,
   "id": "4983751b-6d21-4ff3-a732-3605a2ceca1e",
   "metadata": {},
   "outputs": [],
   "source": [
    "import pandas as pd\n",
    "\n",
    "train_churn = pd.read_csv(\"datasets/df_train.csv\")\n",
    "test_churn = pd.read_csv(\"datasets/df_test.csv\")                  "
   ]
  },
  {
   "cell_type": "markdown",
   "id": "f3b3a351-aa37-4b98-8ac8-7a32d6a074ce",
   "metadata": {},
   "source": [
    "# Pre-Tratamento"
   ]
  },
  {
   "cell_type": "code",
   "execution_count": 43,
   "id": "6d19eddb-09dc-4b71-b1bf-f878a444ef8e",
   "metadata": {},
   "outputs": [
    {
     "name": "stdout",
     "output_type": "stream",
     "text": [
      "<class 'pandas.core.frame.DataFrame'>\n",
      "RangeIndex: 5986 entries, 0 to 5985\n",
      "Data columns (total 30 columns):\n",
      " #   Column             Non-Null Count  Dtype  \n",
      "---  ------             --------------  -----  \n",
      " 0   CustomerID         5986 non-null   object \n",
      " 1   Count              5986 non-null   int64  \n",
      " 2   Country            5986 non-null   object \n",
      " 3   State              5986 non-null   object \n",
      " 4   City               5986 non-null   object \n",
      " 5   Zip Code           5986 non-null   int64  \n",
      " 6   Lat Long           5986 non-null   object \n",
      " 7   Latitude           5986 non-null   float64\n",
      " 8   Longitude          5986 non-null   float64\n",
      " 9   Gender             5986 non-null   object \n",
      " 10  Senior Citizen     5986 non-null   object \n",
      " 11  Partner            5986 non-null   object \n",
      " 12  Dependents         5986 non-null   object \n",
      " 13  Tenure Months      5986 non-null   int64  \n",
      " 14  Phone Service      5986 non-null   object \n",
      " 15  Multiple Lines     5986 non-null   object \n",
      " 16  Internet Service   5986 non-null   object \n",
      " 17  Online Security    5986 non-null   object \n",
      " 18  Online Backup      5986 non-null   object \n",
      " 19  Device Protection  5986 non-null   object \n",
      " 20  Tech Support       5986 non-null   object \n",
      " 21  Streaming TV       5986 non-null   object \n",
      " 22  Streaming Movies   5986 non-null   object \n",
      " 23  Contract           5986 non-null   object \n",
      " 24  Paperless Billing  5986 non-null   object \n",
      " 25  Payment Method     5986 non-null   object \n",
      " 26  Monthly Charges    5986 non-null   float64\n",
      " 27  Total Charges      5986 non-null   object \n",
      " 28  Churn Label        5986 non-null   int64  \n",
      " 29  CLTV               5986 non-null   int64  \n",
      "dtypes: float64(3), int64(5), object(22)\n",
      "memory usage: 1.4+ MB\n"
     ]
    }
   ],
   "source": [
    "train_churn.info()"
   ]
  },
  {
   "cell_type": "code",
   "execution_count": 3,
   "id": "8e12f3fe-026c-4f2a-a3ad-0ff228407dab",
   "metadata": {},
   "outputs": [
    {
     "data": {
      "text/plain": [
       "array(['No', 'No internet service', 'Yes'], dtype=object)"
      ]
     },
     "execution_count": 3,
     "metadata": {},
     "output_type": "execute_result"
    }
   ],
   "source": [
    "train_churn['Tech Support'].unique()"
   ]
  },
  {
   "cell_type": "code",
   "execution_count": 4,
   "id": "88245704-33eb-4114-8d61-2aa1a78dd569",
   "metadata": {
    "scrolled": true
   },
   "outputs": [
    {
     "data": {
      "text/plain": [
       "array(['No', 'Yes'], dtype=object)"
      ]
     },
     "execution_count": 4,
     "metadata": {},
     "output_type": "execute_result"
    }
   ],
   "source": [
    "train_churn['Churn Label'].unique()"
   ]
  },
  {
   "cell_type": "code",
   "execution_count": 44,
   "id": "e1952931-e1b2-487e-b7ab-e7f531abc5fe",
   "metadata": {},
   "outputs": [
    {
     "data": {
      "text/plain": [
       "array([ 1, 38, 64, 72, 42, 18, 68, 29, 14, 50,  3, 22, 69, 47, 71, 23, 56,\n",
       "       19, 10, 67, 66, 17, 26, 40, 44, 15, 24, 65, 34, 60,  7, 20, 27,  6,\n",
       "       62, 12, 37, 35, 39, 70,  9,  2,  5, 61, 21, 16, 45,  4,  8, 28, 59,\n",
       "       30, 11, 49, 25, 52, 63, 32, 13, 53, 48, 33, 41, 51, 31, 57, 43, 55,\n",
       "       58, 54, 46, 36,  0])"
      ]
     },
     "execution_count": 44,
     "metadata": {},
     "output_type": "execute_result"
    }
   ],
   "source": [
    "train_churn['Tenure Months'].unique()"
   ]
  },
  {
   "cell_type": "markdown",
   "id": "9c0f43df-cca1-4a5f-a98f-3c05ab359379",
   "metadata": {},
   "source": [
    "## Realize uma análise exploratória dos dados e responda às seguintes questões: existe alguma cidade com taxa de churn significativamente maior? O churn é mais prevalente entre clientes recentes ou antigos? Quais serviços são menos utilizados?"
   ]
  },
  {
   "cell_type": "markdown",
   "id": "c81ee451-e806-4893-aa19-dd8d63e63625",
   "metadata": {},
   "source": [
    " - Sim, Pegando um top 20 das cidades que mais aparecem podemos verificar a taxa de variacao maior em algumas, como Modesto que chega a quase 50% das pessoas com numero de desistencias pelo que entendi.\n",
    " - A desistencia e mais facil em grupos mais novos do que em grupo mais antigos de clientes.\n",
    " - Internet e Phone sao os dois menos usados."
   ]
  },
  {
   "cell_type": "code",
   "execution_count": 19,
   "id": "3d86e9fa-e940-4907-b93e-b949ae7fc0b0",
   "metadata": {},
   "outputs": [],
   "source": [
    "train_churn['Churn Label'] = train_churn['Churn Label'].replace('Yes', 1)\n",
    "train_churn['Churn Label'] = train_churn['Churn Label'].replace('No', 0)"
   ]
  },
  {
   "cell_type": "code",
   "execution_count": 20,
   "id": "933eb499-5c3a-456e-95f6-bae6787266d8",
   "metadata": {},
   "outputs": [
    {
     "data": {
      "text/plain": [
       "City\n",
       "Los Angeles      270\n",
       "San Diego        130\n",
       "San Jose          94\n",
       "San Francisco     91\n",
       "Sacramento        90\n",
       "                ... \n",
       "Santa Clarita      1\n",
       "Crockett           1\n",
       "Jamestown          1\n",
       "Squaw Valley       1\n",
       "Leggett            1\n",
       "Name: count, Length: 1129, dtype: int64"
      ]
     },
     "execution_count": 20,
     "metadata": {},
     "output_type": "execute_result"
    }
   ],
   "source": [
    "train_churn['City'].value_counts()"
   ]
  },
  {
   "cell_type": "code",
   "execution_count": 33,
   "id": "1cc132d4-6cb6-44f1-a66e-bb05fd6ee992",
   "metadata": {},
   "outputs": [],
   "source": [
    "big_city = train_churn['City'].value_counts().head(20).index\n",
    "df_big_cities = train_churn[train_churn['City'].isin(big_city)]\n",
    "rate_churn = df_big_cities.groupby(\"City\")[\"Churn Label\"].mean().sort_values(ascending=False)"
   ]
  },
  {
   "cell_type": "code",
   "execution_count": 34,
   "id": "ef3dfb7d-4425-4c30-8a94-32be3751d522",
   "metadata": {},
   "outputs": [
    {
     "data": {
      "text/plain": [
       "City\n",
       "Modesto          0.480000\n",
       "Santa Barbara    0.375000\n",
       "Pasadena         0.347826\n",
       "Glendale         0.323529\n",
       "Oakland          0.307692\n",
       "Stockton         0.305556\n",
       "Los Angeles      0.300000\n",
       "San Diego        0.300000\n",
       "Anaheim          0.291667\n",
       "Berkeley         0.291667\n",
       "San Jose         0.276596\n",
       "San Francisco    0.274725\n",
       "Burbank          0.260870\n",
       "Fresno           0.258621\n",
       "Long Beach       0.250000\n",
       "Sacramento       0.244444\n",
       "Riverside        0.233333\n",
       "Irvine           0.166667\n",
       "Whittier         0.142857\n",
       "Bakersfield      0.064516\n",
       "Name: Churn Label, dtype: float64"
      ]
     },
     "execution_count": 34,
     "metadata": {},
     "output_type": "execute_result"
    }
   ],
   "source": [
    "rate_churn"
   ]
  },
  {
   "cell_type": "code",
   "execution_count": 51,
   "id": "e674db4d-d976-4322-84f7-5750c58518c0",
   "metadata": {},
   "outputs": [
    {
     "name": "stderr",
     "output_type": "stream",
     "text": [
      "/tmp/ipykernel_41188/3929106320.py:4: FutureWarning: The default of observed=False is deprecated and will be changed to True in a future version of pandas. Pass observed=False to retain current behavior or observed=True to adopt the future default and silence this warning.\n",
      "  rate_churn_per_group= train_churn.groupby('Tenure Group')['Churn Label'].mean()\n"
     ]
    }
   ],
   "source": [
    "intervalo = [0, 6, float('inf')]\n",
    "labels = ['0-6 meses', 'mais do 6 meses']\n",
    "train_churn['Tenure Group'] = pd.cut(train_churn['Tenure Months'], bins=intervalo, labels=labels, right=True)\n",
    "rate_churn_per_group= train_churn.groupby('Tenure Group')['Churn Label'].mean()"
   ]
  },
  {
   "cell_type": "code",
   "execution_count": 55,
   "id": "98ee97c8-0f45-4db8-8047-f945ce662fdd",
   "metadata": {},
   "outputs": [
    {
     "name": "stderr",
     "output_type": "stream",
     "text": [
      "/tmp/ipykernel_41188/1697791032.py:8: FutureWarning: \n",
      "\n",
      "Passing `palette` without assigning `hue` is deprecated and will be removed in v0.14.0. Assign the `x` variable to `hue` and set `legend=False` for the same effect.\n",
      "\n",
      "  sns.barplot(x='Tenure Group', y='Churn Label Mean', data=df_rate_churn_group, palette='pastel')\n"
     ]
    },
    {
     "data": {
      "image/png": "[encoded data removed]",
      "text/plain": [
       "<Figure size 800x600 with 1 Axes>"
      ]
     },
     "metadata": {},
     "output_type": "display_data"
    }
   ],
   "source": [
    "import matplotlib.pyplot as plt\n",
    "import seaborn as sns\n",
    "\n",
    "df_rate_churn_group = rate_churn_per_group.reset_index()\n",
    "df_rate_churn_group.columns=['Tenure Group', 'Churn Label Mean']\n",
    "\n",
    "plt.figure(figsize=(8, 6))\n",
    "sns.barplot(x='Tenure Group', y='Churn Label Mean', data=df_rate_churn_group, palette='pastel')\n",
    "plt.xlabel('Grupos')\n",
    "plt.ylabel('Taxa de Churn')\n",
    "plt.title('Taxa de Churn por grupos 6 e mais de meses')\n",
    "plt.show()"
   ]
  },
  {
   "cell_type": "code",
   "execution_count": 71,
   "id": "4434d621-b44a-4c9e-af7f-a4ce40787c85",
   "metadata": {
    "scrolled": true
   },
   "outputs": [
    {
     "name": "stdout",
     "output_type": "stream",
     "text": [
      "Phone Service\n",
      "No    585\n",
      "Name: count, dtype: int64\n",
      "Multiple Lines\n",
      "No    2894\n",
      "Name: count, dtype: int64\n",
      "Internet Service\n",
      "No    1318\n",
      "Name: count, dtype: int64\n",
      "Online Security\n",
      "No    2972\n",
      "Name: count, dtype: int64\n",
      "Online Backup\n",
      "No    2624\n",
      "Name: count, dtype: int64\n",
      "Device Protection\n",
      "No    2612\n",
      "Name: count, dtype: int64\n",
      "Tech Support\n",
      "No    2925\n",
      "Name: count, dtype: int64\n",
      "Streaming TV\n",
      "No    2394\n",
      "Name: count, dtype: int64\n",
      "Streaming Movies\n",
      "No    2347\n",
      "Name: count, dtype: int64\n"
     ]
    }
   ],
   "source": [
    "phone_service_counts = train_churn['Phone Service'].value_counts()\n",
    "multiple_lines_counts = train_churn['Multiple Lines'].value_counts()\n",
    "internet_service_counts = train_churn['Internet Service'].value_counts()\n",
    "online_security_counts = train_churn['Online Security'].value_counts()\n",
    "online_backup_counts = train_churn['Online Backup'].value_counts()\n",
    "device_protection_counts = train_churn['Device Protection'].value_counts()\n",
    "tech_support_counts = train_churn['Tech Support'].value_counts()\n",
    "streaming_tv_counts = train_churn['Streaming TV'].value_counts()\n",
    "streaming_movies_counts = train_churn['Streaming Movies'].value_counts()\n",
    "\n",
    "service_counts = {\n",
    "    'Phone Service': phone_service_counts,\n",
    "    'Multiple Lines': multiple_lines_counts,\n",
    "    'Internet Service': internet_service_counts,\n",
    "    'Online Security': online_security_counts,\n",
    "    'Online Backup': online_backup_counts,\n",
    "    'Device Protection': device_protection_counts,\n",
    "    'Tech Support': tech_support_counts,\n",
    "    'Streaming TV': streaming_tv_counts,\n",
    "    'Streaming Movies': streaming_movies_counts\n",
    "}\n",
    "\n",
    "for service, counts in service_counts.items():\n",
    "    no_counts = counts[counts.index == 'No']\n",
    "    if not no_counts.empty:\n",
    "        print(no_counts)"
   ]
  },
  {
   "cell_type": "code",
   "execution_count": null,
   "id": "274c2ff5-b724-4b86-b776-7a2cac07a77f",
   "metadata": {},
   "outputs": [],
   "source": [
    "## Tratamento exploratorio"
   ]
  },
  {
   "cell_type": "markdown",
   "id": "8fabfe11-6420-47ef-87b4-e1aabefc6cc6",
   "metadata": {},
   "source": [
    "## Compare os resultados obtidos entre uma árvore de decisão e uma floresta aleatória em termos de precisão na classificação de churn de clientes. Avalie também outras métricas relevantes, como recall e F1-score, para entender melhor a eficácia de cada modelo na previsão de churn."
   ]
  },
  {
   "cell_type": "code",
   "execution_count": null,
   "id": "74ca22a0-5036-43e3-9129-cc956821bf48",
   "metadata": {},
   "outputs": [],
   "source": []
  }
 ],
 "metadata": {
  "kernelspec": {
   "display_name": "Python 3 (ipykernel)",
   "language": "python",
   "name": "python3"
  },
  "language_info": {
   "codemirror_mode": {
    "name": "ipython",
    "version": 3
   },
   "file_extension": ".py",
   "mimetype": "text/x-python",
   "name": "python",
   "nbconvert_exporter": "python",
   "pygments_lexer": "ipython3",
   "version": "3.11.5"
  }
 },
 "nbformat": 4,
 "nbformat_minor": 5
}
